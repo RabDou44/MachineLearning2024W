{
 "cells": [
  {
   "cell_type": "code",
   "id": "initial_id",
   "metadata": {
    "collapsed": true,
    "ExecuteTime": {
     "end_time": "2025-02-21T12:00:35.137357Z",
     "start_time": "2025-02-21T12:00:35.011538Z"
    }
   },
   "source": [
    "import pandas as pd\n",
    "import pickle\n",
    "\n",
    "# Load the data into a Pandas DataFrame\n",
    "df = pd.read_csv(\"alzheimers_prediction_dataset.csv\")\n",
    "bin_columns = ['Gender', 'Family History of Alzheimers']\n",
    "cat_columns = [\n",
    "    'Education Level', 'Employment Status', 'Marital Status', 'Smoking Status',\n",
    "    'Alcohol Consumption', 'Depression Level', 'Sleep Quality', 'Dietary Habits',\n",
    "    'Air Pollution Exposure', 'Income Level', 'Stress Levels'\n",
    "]\n",
    "ordinal_columns = ['Physical Activity Level', 'Social Engagement Level']\n",
    "continuous_columns = ['Age', 'BMI', 'Cognitive Test Score']\n",
    "target_column = 'Alzheimers Diagnosis'\n",
    "\n",
    "# Convert columns to their respective data types\n",
    "for col in bin_columns:\n",
    "    df[col] = df[col].astype('category')\n",
    "for col in cat_columns:\n",
    "    df[col] = df[col].astype('category')\n",
    "for col in ordinal_columns:\n",
    "    df[col] = pd.Categorical(df[col], ordered=True)\n",
    "for col in continuous_columns:\n",
    "    df[col] = df[col].astype('float64')\n",
    "\n",
    "# Define column metadata\n",
    "metadata = {\n",
    "    \"bin\": bin_columns,\n",
    "    \"cat\": cat_columns,\n",
    "    \"ord\": ordinal_columns,\n",
    "    \"cont\": continuous_columns,\n",
    "    \"target\": target_column\n",
    "}\n",
    "\n",
    "# Save metadata as a pickle file\n",
    "with open(\"./alzheimer_dataset.pkl\", \"wb\") as f:\n",
    "    pickle.dump(metadata, f)\n",
    "\n",
    "print(\"Metadata saved successfully to 'alzheimer_dataset.pkl'.\")"
   ],
   "outputs": [
    {
     "name": "stdout",
     "output_type": "stream",
     "text": [
      "Metadata saved successfully to 'alzheimer_dataset.pkl'.\n"
     ]
    }
   ],
   "execution_count": 5
  }
 ],
 "metadata": {
  "kernelspec": {
   "display_name": "Python 3",
   "language": "python",
   "name": "python3"
  },
  "language_info": {
   "codemirror_mode": {
    "name": "ipython",
    "version": 2
   },
   "file_extension": ".py",
   "mimetype": "text/x-python",
   "name": "python",
   "nbconvert_exporter": "python",
   "pygments_lexer": "ipython2",
   "version": "2.7.6"
  }
 },
 "nbformat": 4,
 "nbformat_minor": 5
}
