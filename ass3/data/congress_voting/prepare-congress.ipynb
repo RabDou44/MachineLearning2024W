{
 "cells": [
  {
   "metadata": {
    "ExecuteTime": {
     "end_time": "2025-02-24T16:13:44.154965Z",
     "start_time": "2025-02-24T16:13:43.709243Z"
    }
   },
   "cell_type": "code",
   "source": [
    "import pandas as pd\n",
    "import pickle\n",
    "\n",
    "# Load the data into a Pandas DataFrame\n",
    "placement_df = pd.read_csv(\"CongressionalVotingID.shuf.lrn.csv\")\n",
    "\n",
    "# Define relevant column groupings\n",
    "binary_columns = [\n",
    "    \"handicapped-infants\", \"water-project-cost-sharing\", \"adoption-of-the-budget-resolution\",\n",
    "    \"physician-fee-freeze\", \"el-salvador-aid\", \"religious-groups-in-schools\",\n",
    "    \"anti-satellite-test-ban\", \"aid-to-nicaraguan-contras\", \"mx-missile\",\n",
    "    \"immigration\", \"synfuels-crporation-cutback\", \"education-spending\",\n",
    "    \"superfund-right-to-sue\", \"crime\", \"duty-free-exports\",\n",
    "    \"export-administration-act-south-africa\"\n",
    "]\n",
    "categorical_columns = [\"class\"]  # Represents the categories: democrat and republican\n",
    "ordinal_columns = []  # No clear ordinal columns in the provided data\n",
    "continuous_columns = []  # No continuous columns in this dataset\n",
    "target_column = \"class\"  # The target column for classification\n",
    "\n",
    "\n",
    "# Convert relevant columns to their appropriate data types\n",
    "for col in binary_columns:\n",
    "    placement_df[col] = placement_df[col].astype('category')\n",
    "for col in categorical_columns:\n",
    "    placement_df[col] = placement_df[col].astype('category')\n",
    "for col in ordinal_columns:\n",
    "    placement_df[col] = pd.Categorical(placement_df[col], ordered=True)\n",
    "for col in continuous_columns:\n",
    "    placement_df[col] = placement_df[col].astype('float64')\n",
    "\n",
    "# Define metadata\n",
    "congress_metadata = {\n",
    "    \"bin\": binary_columns,\n",
    "    \"cat\": categorical_columns,\n",
    "    \"ord\": ordinal_columns,\n",
    "    \"cont\": continuous_columns,\n",
    "    \"target\": target_column\n",
    "}\n",
    "\n",
    "# Save metadata as a pickle file\n",
    "with open(\"./congressional-voting.pkl\", \"wb\") as f:\n",
    "    pickle.dump(congress_metadata, f)\n",
    "\n",
    "print(\"Metadata saved successfully to 'congressional-voting.pkl'.\")\n"
   ],
   "id": "b12c29b458f44ee0",
   "outputs": [
    {
     "name": "stdout",
     "output_type": "stream",
     "text": [
      "Metadata saved successfully to 'congressional-voting.pkl'.\n"
     ]
    }
   ],
   "execution_count": 1
  },
  {
   "metadata": {},
   "cell_type": "code",
   "outputs": [],
   "execution_count": null,
   "source": "",
   "id": "69822177907beb20"
  }
 ],
 "metadata": {
  "kernelspec": {
   "name": "python3",
   "language": "python",
   "display_name": "Python 3 (ipykernel)"
  }
 },
 "nbformat": 5,
 "nbformat_minor": 9
}
