{
 "cells": [
  {
   "cell_type": "code",
   "id": "initial_id",
   "metadata": {
    "collapsed": true,
    "ExecuteTime": {
     "end_time": "2025-02-21T12:15:38.171045Z",
     "start_time": "2025-02-21T12:15:37.979225Z"
    }
   },
   "source": [
    "import pandas as pd\n",
    "import pickle\n",
    "\n",
    "# Load the data into a Pandas DataFrame\n",
    "placement_df = pd.read_csv(\"placementdata.csv\")\n",
    "\n",
    "# Define relevant column groupings\n",
    "binary_columns = ['ExtracurricularActivities', 'PlacementTraining']\n",
    "categorical_columns = ['PlacementStatus']\n",
    "ordinal_columns = []  # Placeholder for ordered categorical variables if applicable in the future\n",
    "continuous_columns = [\n",
    "    'CGPA', 'Internships', 'Projects', 'Workshops/Certifications',\n",
    "    'AptitudeTestScore', 'SoftSkillsRating', 'SSC_Marks', 'HSC_Marks'\n",
    "]\n",
    "target_column = 'PlacementStatus'\n",
    "\n",
    "# Convert relevant columns to their appropriate data types\n",
    "for col in binary_columns:\n",
    "    placement_df[col] = placement_df[col].astype('category')\n",
    "for col in categorical_columns:\n",
    "    placement_df[col] = placement_df[col].astype('category')\n",
    "for col in ordinal_columns:\n",
    "    placement_df[col] = pd.Categorical(placement_df[col], ordered=True)\n",
    "for col in continuous_columns:\n",
    "    placement_df[col] = placement_df[col].astype('float64')\n",
    "\n",
    "# Define metadata\n",
    "placement_metadata = {\n",
    "    \"bin\": binary_columns,\n",
    "    \"cat\": categorical_columns,\n",
    "    \"ord\": ordinal_columns,\n",
    "    \"cont\": continuous_columns,\n",
    "    \"target\": target_column\n",
    "}\n",
    "\n",
    "# Save metadata as a pickle file\n",
    "with open(\"./placement_metadata.pkl\", \"wb\") as f:\n",
    "    pickle.dump(placement_metadata, f)\n",
    "\n",
    "print(\"Metadata saved successfully to 'placement_metadata.pkl'.\")\n"
   ],
   "outputs": [
    {
     "name": "stdout",
     "output_type": "stream",
     "text": [
      "Metadata saved successfully to 'placement_metadata.pkl'.\n"
     ]
    }
   ],
   "execution_count": 1
  }
 ],
 "metadata": {
  "kernelspec": {
   "display_name": "Python 3",
   "language": "python",
   "name": "python3"
  },
  "language_info": {
   "codemirror_mode": {
    "name": "ipython",
    "version": 2
   },
   "file_extension": ".py",
   "mimetype": "text/x-python",
   "name": "python",
   "nbconvert_exporter": "python",
   "pygments_lexer": "ipython2",
   "version": "2.7.6"
  }
 },
 "nbformat": 4,
 "nbformat_minor": 5
}
